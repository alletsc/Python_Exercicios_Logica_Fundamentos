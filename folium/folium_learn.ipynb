{
 "cells": [
  {
   "cell_type": "code",
   "execution_count": 1,
   "source": [
    "import folium\r\n"
   ],
   "outputs": [
    {
     "output_type": "error",
     "ename": "ModuleNotFoundError",
     "evalue": "No module named 'folium.plugins'; 'folium' is not a package",
     "traceback": [
      "\u001b[1;31m---------------------------------------------------------------------------\u001b[0m",
      "\u001b[1;31mModuleNotFoundError\u001b[0m                       Traceback (most recent call last)",
      "\u001b[1;32m<ipython-input-1-e5f591df1b62>\u001b[0m in \u001b[0;36m<module>\u001b[1;34m\u001b[0m\n\u001b[1;32m----> 1\u001b[1;33m \u001b[1;32mimport\u001b[0m \u001b[0mfolium\u001b[0m\u001b[1;33m\u001b[0m\u001b[1;33m\u001b[0m\u001b[0m\n\u001b[0m",
      "\u001b[1;32ms:\\gits_stella\\Python\\python_start\\folium\\folium.py\u001b[0m in \u001b[0;36m<module>\u001b[1;34m\u001b[0m\n\u001b[0;32m      3\u001b[0m \u001b[1;32mimport\u001b[0m \u001b[0mrequests\u001b[0m\u001b[1;33m\u001b[0m\u001b[1;33m\u001b[0m\u001b[0m\n\u001b[0;32m      4\u001b[0m \u001b[1;32mimport\u001b[0m \u001b[0mfolium\u001b[0m\u001b[1;33m\u001b[0m\u001b[1;33m\u001b[0m\u001b[0m\n\u001b[1;32m----> 5\u001b[1;33m \u001b[1;32mfrom\u001b[0m \u001b[0mfolium\u001b[0m\u001b[1;33m.\u001b[0m\u001b[0mplugins\u001b[0m \u001b[1;32mimport\u001b[0m \u001b[0mMarkerCluster\u001b[0m\u001b[1;33m\u001b[0m\u001b[1;33m\u001b[0m\u001b[0m\n\u001b[0m\u001b[0;32m      6\u001b[0m \u001b[1;32mimport\u001b[0m \u001b[0mjson\u001b[0m\u001b[1;33m\u001b[0m\u001b[1;33m\u001b[0m\u001b[0m\n\u001b[0;32m      7\u001b[0m \u001b[1;33m\u001b[0m\u001b[0m\n",
      "\u001b[1;31mModuleNotFoundError\u001b[0m: No module named 'folium.plugins'; 'folium' is not a package"
     ]
    }
   ],
   "metadata": {
    "id": "_36QyLrqz4A9"
   }
  },
  {
   "cell_type": "code",
   "execution_count": null,
   "source": [
    "m = folium.Map(location=[-19.5736261,-44.0365116],  zoom_start=5,\r\n",
    "               tiles = 'Stamen Terrain')\r\n",
    "\r\n",
    "#gerencias tiles\r\n",
    "folium.TileLayer('openstreetmap').add_to(m)\r\n",
    "folium.TileLayer('stamentoner').add_to(m)\r\n",
    "folium.TileLayer('stamenterrain').add_to(m)\r\n",
    "folium.TileLayer('stamenterrain').add_to(m)\r\n",
    "folium.TileLayer('Mapbox Control Room').add_to(m)\r\n",
    "folium.LayerControl().add_to(m)\r\n",
    "\r\n",
    "#add long e lat click\r\n",
    "m.add_child(folium.LatLngPopup())\r\n",
    "\r\n",
    "#add marker click\r\n",
    "m.add_child(folium.ClickForMarker(popup=\"Waypoint\"))\r\n",
    "m"
   ],
   "outputs": [],
   "metadata": {
    "id": "PvR4lpVCz-me"
   }
  },
  {
   "cell_type": "code",
   "execution_count": null,
   "source": [
    "folium.Marker([-19.5723056,-44.0374978],\r\n",
    "              popup = 'Sitio Ilhotar',\r\n",
    "              tooltip = 'Sitio Ilhotar',\r\n",
    "              icon=folium.Icon(color='green',icon=\"cloud\"),\r\n",
    "    ).add_to(m)\r\n",
    "\r\n",
    "folium.Marker([-19.573317, -44.035969],\r\n",
    "              popup = 'casa',\r\n",
    "              tooltip = 'casa',\r\n",
    "              icon=folium.Icon(color='green',icon=\"seedling\"),\r\n",
    "    ).add_to(m)\r\n",
    "\r\n",
    "folium.Marker([-19.573317, -44.035969],\r\n",
    "              popup = '<i>Casa I<i/>',\r\n",
    "              tooltip = 'Casas I',\r\n",
    "              icon=folium.Icon(color='pink',icon=\"cloud\"),\r\n",
    "    ).add_to(m)\r\n",
    "\r\n",
    "folium.Marker([-19.580788, -44.036444],\r\n",
    "              popup = '<b>LAITE</b>',\r\n",
    "              tooltip = 'Laite',\r\n",
    "              icon=folium.Icon(color='blue',icon=\"cloud\"),\r\n",
    "    ).add_to(m)\r\n",
    "\r\n",
    "m.add_child(folium.LatLngPopup())\r\n",
    "\r\n",
    "m"
   ],
   "outputs": [],
   "metadata": {
    "id": "IbL99Ad90HpM"
   }
  },
  {
   "cell_type": "markdown",
   "source": [
    "### **Circle Marker**"
   ],
   "metadata": {
    "id": "GhVoAWPV-ass"
   }
  },
  {
   "cell_type": "code",
   "execution_count": null,
   "source": [
    "m = folium.Map(location=[45.5236, -122.6750], tiles=\"Stamen Toner\", zoom_start=13)\r\n",
    "\r\n",
    "folium.Circle(\r\n",
    "    radius=100,\r\n",
    "    location=[45.5244, -122.6699],\r\n",
    "    popup=\"The Waterfront\",\r\n",
    "    color=\"crimson\",\r\n",
    "    fill=False,\r\n",
    ").add_to(m)\r\n",
    "\r\n",
    "folium.CircleMarker(\r\n",
    "    location=[45.5215, -122.6261],\r\n",
    "    radius=50,\r\n",
    "    popup=\"Laurelhurst Park\",\r\n",
    "    color=\"#3186cc\",\r\n",
    "    fill=True, \r\n",
    "    fill_color=\"#3186cc\",\r\n",
    ").add_to(m)\r\n",
    "\r\n",
    "\r\n",
    "m"
   ],
   "outputs": [],
   "metadata": {
    "id": "EyitgACD3ITN"
   }
  },
  {
   "cell_type": "markdown",
   "source": [
    "### **Automatizando a marcação com Folium e pandas**"
   ],
   "metadata": {
    "id": "f57T2J0W-LBs"
   }
  },
  {
   "cell_type": "code",
   "execution_count": null,
   "source": [
    "import pandas as pd\r\n",
    "from bs4 import BeautifulSoup as bs\r\n",
    "import requests\r\n",
    "import folium\r\n",
    "from folium.plugins import MarkerCluster\r\n",
    "import json"
   ],
   "outputs": [
    {
     "output_type": "error",
     "ename": "ModuleNotFoundError",
     "evalue": "No module named 'folium.plugins'; 'folium' is not a package",
     "traceback": [
      "\u001b[1;31m---------------------------------------------------------------------------\u001b[0m",
      "\u001b[1;31mModuleNotFoundError\u001b[0m                       Traceback (most recent call last)",
      "\u001b[1;32m<ipython-input-4-b4bfc3657ed6>\u001b[0m in \u001b[0;36m<module>\u001b[1;34m\u001b[0m\n\u001b[0;32m      2\u001b[0m \u001b[1;32mfrom\u001b[0m \u001b[0mbs4\u001b[0m \u001b[1;32mimport\u001b[0m \u001b[0mBeautifulSoup\u001b[0m \u001b[1;32mas\u001b[0m \u001b[0mbs\u001b[0m\u001b[1;33m\u001b[0m\u001b[1;33m\u001b[0m\u001b[0m\n\u001b[0;32m      3\u001b[0m \u001b[1;32mimport\u001b[0m \u001b[0mrequests\u001b[0m\u001b[1;33m\u001b[0m\u001b[1;33m\u001b[0m\u001b[0m\n\u001b[1;32m----> 4\u001b[1;33m \u001b[1;32mimport\u001b[0m \u001b[0mfolium\u001b[0m\u001b[1;33m\u001b[0m\u001b[1;33m\u001b[0m\u001b[0m\n\u001b[0m\u001b[0;32m      5\u001b[0m \u001b[1;32mfrom\u001b[0m \u001b[0mfolium\u001b[0m\u001b[1;33m.\u001b[0m\u001b[0mplugins\u001b[0m \u001b[1;32mimport\u001b[0m \u001b[0mMarkerCluster\u001b[0m\u001b[1;33m\u001b[0m\u001b[1;33m\u001b[0m\u001b[0m\n\u001b[0;32m      6\u001b[0m \u001b[1;32mimport\u001b[0m \u001b[0mjson\u001b[0m\u001b[1;33m\u001b[0m\u001b[1;33m\u001b[0m\u001b[0m\n",
      "\u001b[1;32ms:\\gits_stella\\Python\\python_start\\folium\\folium.py\u001b[0m in \u001b[0;36m<module>\u001b[1;34m\u001b[0m\n\u001b[0;32m      3\u001b[0m \u001b[1;32mimport\u001b[0m \u001b[0mrequests\u001b[0m\u001b[1;33m\u001b[0m\u001b[1;33m\u001b[0m\u001b[0m\n\u001b[0;32m      4\u001b[0m \u001b[1;32mimport\u001b[0m \u001b[0mfolium\u001b[0m\u001b[1;33m\u001b[0m\u001b[1;33m\u001b[0m\u001b[0m\n\u001b[1;32m----> 5\u001b[1;33m \u001b[1;32mfrom\u001b[0m \u001b[0mfolium\u001b[0m\u001b[1;33m.\u001b[0m\u001b[0mplugins\u001b[0m \u001b[1;32mimport\u001b[0m \u001b[0mMarkerCluster\u001b[0m\u001b[1;33m\u001b[0m\u001b[1;33m\u001b[0m\u001b[0m\n\u001b[0m\u001b[0;32m      6\u001b[0m \u001b[1;32mimport\u001b[0m \u001b[0mjson\u001b[0m\u001b[1;33m\u001b[0m\u001b[1;33m\u001b[0m\u001b[0m\n\u001b[0;32m      7\u001b[0m \u001b[1;33m\u001b[0m\u001b[0m\n",
      "\u001b[1;31mModuleNotFoundError\u001b[0m: No module named 'folium.plugins'; 'folium' is not a package"
     ]
    }
   ],
   "metadata": {
    "id": "kwSeJbJV-Pjj"
   }
  },
  {
   "cell_type": "code",
   "execution_count": null,
   "source": [
    "\r\n",
    "expo = pd.read_csv('expo2.csv')\r\n",
    "df = expo\r\n",
    "df1 = df.drop(['Unnamed: 0'], axis=1)\r\n",
    "\r\n",
    "m_expo = folium.Map(location=[-6.8074226, -47.6999202],  zoom_start=6,\r\n",
    "                    tiles='Stamen Terrain')\r\n",
    "\r\n",
    "for index, linha in df1.iterrows():\r\n",
    "    folium.Marker([linha['LAT'], linha['LONG']],\r\n",
    "                  popup=linha['EXPORTAÇÃO U$'],\r\n",
    "                  tooltip=linha['MUNICIPIO'],\r\n",
    "                  icon=folium.Icon(color='darkgreen', icon_color = '#45B39D', #cores personalizaveis com html \r\n",
    "                                   icon='leaf', #icon font awesome ou bootstrap glyphicons\r\n",
    "                                  prefix='fa') \r\n",
    "                  ).add_to(m_expo)\r\n",
    "    \r\n",
    "    \r\n",
    "suape = folium.CircleMarker(location=[-8.3944,  -34.9741],\r\n",
    "                            popup='Porto de Suape',\r\n",
    "                            tooltip='Porto de Suape',\r\n",
    "                            icon=folium.Icon(color='red')\r\n",
    "                            ).add_to(m_expo)\r\n",
    "\r\n",
    "itaqui = folium.CircleMarker(location=[-2.5776,  -44.3673],\r\n",
    "                             popup='Porto de Itaqui',\r\n",
    "                             tooltip='Porto de Itaqui',\r\n",
    "                             icon=folium.Icon(color='red')\r\n",
    "                             ).add_to(m_expo)\r\n",
    "\r\n",
    "pecem = folium.CircleMarker(location=[-3.5495,  -38.8108],\r\n",
    "                            popup='Porto de Pécem',\r\n",
    "                            tooltip='Porto de Pécem',\r\n",
    "                            icon=folium.Icon(color='red')\r\n",
    "                            ).add_to(m_expo)\r\n",
    "\r\n",
    "folium.TileLayer('openstreetmap').add_to(m_expo)\r\n",
    "folium.TileLayer('stamentoner').add_to(m_expo)\r\n",
    "folium.TileLayer('stamenterrain').add_to(m_expo)\r\n",
    "\r\n",
    "folium.TileLayer('cartodbpositron').add_to(m_expo)\r\n",
    "\r\n",
    "folium.LayerControl().add_to(m_expo)\r\n",
    "\r\n",
    "m_expo.save('mapa.html')\r\n",
    "\r\n"
   ],
   "outputs": [
    {
     "output_type": "error",
     "ename": "NameError",
     "evalue": "name 'pd' is not defined",
     "traceback": [
      "\u001b[1;31m---------------------------------------------------------------------------\u001b[0m",
      "\u001b[1;31mNameError\u001b[0m                                 Traceback (most recent call last)",
      "\u001b[1;32m<ipython-input-3-cd0af0b6a838>\u001b[0m in \u001b[0;36m<module>\u001b[1;34m\u001b[0m\n\u001b[1;32m----> 1\u001b[1;33m \u001b[0mexpo\u001b[0m \u001b[1;33m=\u001b[0m \u001b[0mpd\u001b[0m\u001b[1;33m.\u001b[0m\u001b[0mread_csv\u001b[0m\u001b[1;33m(\u001b[0m\u001b[1;34m'expo2.csv'\u001b[0m\u001b[1;33m)\u001b[0m\u001b[1;33m\u001b[0m\u001b[1;33m\u001b[0m\u001b[0m\n\u001b[0m\u001b[0;32m      2\u001b[0m \u001b[0mdf\u001b[0m \u001b[1;33m=\u001b[0m \u001b[0mexpo\u001b[0m\u001b[1;33m\u001b[0m\u001b[1;33m\u001b[0m\u001b[0m\n\u001b[0;32m      3\u001b[0m \u001b[0mdf1\u001b[0m \u001b[1;33m=\u001b[0m \u001b[0mdf\u001b[0m\u001b[1;33m.\u001b[0m\u001b[0mdrop\u001b[0m\u001b[1;33m(\u001b[0m\u001b[1;33m[\u001b[0m\u001b[1;34m'Unnamed: 0'\u001b[0m\u001b[1;33m]\u001b[0m\u001b[1;33m,\u001b[0m \u001b[0maxis\u001b[0m\u001b[1;33m=\u001b[0m\u001b[1;36m1\u001b[0m\u001b[1;33m)\u001b[0m\u001b[1;33m\u001b[0m\u001b[1;33m\u001b[0m\u001b[0m\n\u001b[0;32m      4\u001b[0m \u001b[1;33m\u001b[0m\u001b[0m\n\u001b[0;32m      5\u001b[0m m_expo = folium.Map(location=[-6.8074226, -47.6999202],  zoom_start=6,\n",
      "\u001b[1;31mNameError\u001b[0m: name 'pd' is not defined"
     ]
    }
   ],
   "metadata": {
    "id": "fQ5V3ZBu-3ze"
   }
  },
  {
   "cell_type": "code",
   "execution_count": null,
   "source": [],
   "outputs": [],
   "metadata": {}
  }
 ],
 "metadata": {
  "colab": {
   "name": "folium_learn.ipynb",
   "provenance": []
  },
  "kernelspec": {
   "name": "python3",
   "display_name": "Python 3.8.8 64-bit ('base': conda)"
  },
  "language_info": {
   "codemirror_mode": {
    "name": "ipython",
    "version": 3
   },
   "file_extension": ".py",
   "mimetype": "text/x-python",
   "name": "python",
   "nbconvert_exporter": "python",
   "pygments_lexer": "ipython3",
   "version": "3.8.8"
  },
  "interpreter": {
   "hash": "e266f4c7026234dbf54e67791e35511425040133719230235b4c05bf7469a0c0"
  }
 },
 "nbformat": 4,
 "nbformat_minor": 1
}