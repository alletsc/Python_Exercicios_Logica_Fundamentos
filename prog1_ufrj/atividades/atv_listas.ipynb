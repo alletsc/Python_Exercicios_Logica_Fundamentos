{
 "cells": [
  {
   "cell_type": "code",
   "execution_count": 1,
   "metadata": {},
   "outputs": [
    {
     "name": "stdout",
     "output_type": "stream",
     "text": [
      "[1, 2, 3, 4, 5]\n"
     ]
    }
   ],
   "source": [
    "# 1. Faça um Programa que leia um lista de 5 números inteiros e mostre-os.\n",
    "\n",
    "lista = [1,2,3,4,5]\n",
    "print(lista)"
   ]
  },
  {
   "cell_type": "code",
   "execution_count": 3,
   "metadata": {},
   "outputs": [
    {
     "data": {
      "text/plain": [
       "[10, 9, 8, 7, 6, 5, 4, 3, 2, 1]"
      ]
     },
     "execution_count": 3,
     "metadata": {},
     "output_type": "execute_result"
    }
   ],
   "source": [
    "#2. Faça um Programa que leia um lista de 10 números reais e mostre-os na ordem inversa usando for ou while.\n",
    "\n",
    "def lista_inversa(lista):\n",
    "    lista_inversa = []\n",
    "    for i in range(len(lista)):\n",
    "        lista_inversa.append(lista[len(lista)-1-i])\n",
    "    return lista_inversa\n",
    "\n",
    "lista= [1,2,3,4,5,6,7,8,9,10]\n",
    "lista_inversa(lista)"
   ]
  },
  {
   "cell_type": "code",
   "execution_count": 6,
   "metadata": {},
   "outputs": [
    {
     "name": "stdout",
     "output_type": "stream",
     "text": [
      "A média das notas é 4.5\n"
     ]
    }
   ],
   "source": [
    "# 3.  Faça um Programa que leia 4 notas, mostre as notas e a média na tela.\n",
    "\n",
    "lista = []\n",
    "for i in range(4):\n",
    "    nota = float(input(\"Digite a nota: \"))\n",
    "    lista.append(nota)\n",
    "    media = sum(lista)/4\n",
    "print(f\"A média das notas é {media}\")"
   ]
  },
  {
   "cell_type": "code",
   "execution_count": null,
   "metadata": {},
   "outputs": [],
   "source": [
    "#4. Faça um Programa que leia um lista de 10 caracteres, e diga quantas consoantes foram lidas. Imprima as consoantes.\n"
   ]
  },
  {
   "cell_type": "code",
   "execution_count": null,
   "metadata": {},
   "outputs": [],
   "source": [
    "# 5.Faça um Programa que leia 20 números inteiros e armazene-os num lista. Armazene os números pares no lista PAR e os números IMPARES no lista impar. Imprima as três listas.\n"
   ]
  },
  {
   "cell_type": "code",
   "execution_count": null,
   "metadata": {},
   "outputs": [],
   "source": [
    "# 6. Faça um Programa que peça as quatro notas de 10 alunos, calcule e armazene numa lista a média de cada aluno, imprima o número de alunos com média maior ou igual a 7.0.\n"
   ]
  },
  {
   "cell_type": "code",
   "execution_count": null,
   "metadata": {},
   "outputs": [],
   "source": [
    "# Utilizando listas faça um programa que faça 5 perguntas para uma pessoa sobre um crime. As perguntas são:\n",
    "\n",
    "'''\n",
    "a.\"Telefonou para a vítima?\"\n",
    "\n",
    "b.\"Esteve no local do crime?\"\n",
    "\n",
    "c. \"Mora perto da vítima?\"\n",
    "\n",
    "d.  \"Devia para a vítima?\"\n",
    "'''\n"
   ]
  },
  {
   "cell_type": "code",
   "execution_count": null,
   "metadata": {},
   "outputs": [],
   "source": [
    "#e.  \"Já trabalhou com a vítima?\" O programa deve no final emitir uma classificação sobre a participação da pessoa no crime. Se a pessoa responder positivamente a 2 questões ela deve ser classificada como \"Suspeita\", entre 3 e 4 como \"Cúmplice\" e 5 como \"Assassino\". Caso contrário, ele será classificado como \"Inocente\".\n"
   ]
  },
  {
   "cell_type": "code",
   "execution_count": null,
   "metadata": {},
   "outputs": [],
   "source": [
    "# 8.Faça um programa que leia um número indeterminado de notas (acetar valores entre 0 e 10) de alunos, encerrando a entrada de dados quando for informado pelo usuário. Após terminar a entrada de dados, faça:\n",
    "\n",
    "\"\"\"\n",
    "a. Mostre a quantidade de notas lidas;\n",
    "\n",
    "b. Exiba todos os valores na ordem em que foram informados, um ao lado do outro;\n",
    "\n",
    "c.  Exiba todos os valores na ordem inversa à que foram informados, um abaixo do outro;\n",
    "\n",
    "d. Calcule e mostre a soma dos valores;\n",
    "\n",
    "e. Calcule e mostre a média dos valores;\n",
    "f. Calcule e mostre a quantidade de valores acima da média calculada;\n",
    "\n",
    "g. Calcule e mostre a quantidade de valores abaixo de sete;\n",
    "\n",
    "h.  Encerre o programa com uma mensagem;\n",
    "\"\"\""
   ]
  },
  {
   "cell_type": "code",
   "execution_count": null,
   "metadata": {},
   "outputs": [],
   "source": [
    "#9.   Utilize uma lista para resolver o problema a seguir. Uma empresa paga seus vendedores com base em comissões. O vendedor recebe $200 por semana mais 9 por cento de suas vendas brutas daquela semana. Por exemplo, um vendedor que teve vendas brutas de $3000 em uma semana recebe $200 mais 9 por cento de $3000, ou seja, um total de $470. Escreva um programa (usando listra) que determine quantos vendedores receberam salários nos seguintes intervalos de valores:\n",
    "'''\n",
    "a. $200 - $299\n",
    "\n",
    "b. $300 - $399\n",
    "\n",
    "c. $400 - $499\n",
    "\n",
    "d. $500 - $599\n",
    "\n",
    "e. $600 - $699\n",
    "\n",
    "f. $700 - $799\n",
    "\n",
    "g. $800 - $899\n",
    "\n",
    "h.  $900 - $999\n",
    "\n",
    "i.  $1000 em diante\n",
    "'''"
   ]
  }
 ],
 "metadata": {
  "interpreter": {
   "hash": "7c5270055c0038488c63f926ec347fbe631f4e4e8c69d2b543fd0f721086aaf0"
  },
  "kernelspec": {
   "display_name": "Python 3.10.2 64-bit (windows store)",
   "language": "python",
   "name": "python3"
  },
  "language_info": {
   "codemirror_mode": {
    "name": "ipython",
    "version": 3
   },
   "file_extension": ".py",
   "mimetype": "text/x-python",
   "name": "python",
   "nbconvert_exporter": "python",
   "pygments_lexer": "ipython3",
   "version": "3.10.2"
  },
  "orig_nbformat": 4
 },
 "nbformat": 4,
 "nbformat_minor": 2
}
