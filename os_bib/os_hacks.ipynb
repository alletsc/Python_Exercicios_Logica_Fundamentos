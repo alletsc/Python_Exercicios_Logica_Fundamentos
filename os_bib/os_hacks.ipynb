{
 "cells": [
  {
   "cell_type": "code",
   "execution_count": 1,
   "metadata": {},
   "outputs": [],
   "source": [
    "import os\n",
    "# Documentação\n",
    "# https://docs.python.org/pt-br/3/library/os"
   ]
  },
  {
   "cell_type": "code",
   "execution_count": 15,
   "metadata": {},
   "outputs": [],
   "source": [
    "# Trabalhando com pastas\n",
    "# retorna uma string com o caminho absoluto do diretório atual\n",
    "\n",
    "atual = os.getcwd()"
   ]
  },
  {
   "cell_type": "code",
   "execution_count": null,
   "metadata": {},
   "outputs": [],
   "source": [
    "sistema = os.environ\n",
    "print(sistema)"
   ]
  },
  {
   "cell_type": "code",
   "execution_count": 4,
   "metadata": {},
   "outputs": [
    {
     "name": "stdout",
     "output_type": "stream",
     "text": [
      "ursga\n"
     ]
    }
   ],
   "source": [
    "print(sistema['Username'])"
   ]
  },
  {
   "cell_type": "code",
   "execution_count": 11,
   "metadata": {},
   "outputs": [
    {
     "data": {
      "text/plain": [
       "'C:\\\\Users\\\\ursga'"
      ]
     },
     "execution_count": 11,
     "metadata": {},
     "output_type": "execute_result"
    }
   ],
   "source": [
    "os.chdir('C:\\\\Users\\\\' + sistema['Username'])\n",
    "os.getcwd()"
   ]
  },
  {
   "cell_type": "code",
   "execution_count": 17,
   "metadata": {},
   "outputs": [
    {
     "name": "stdout",
     "output_type": "stream",
     "text": [
      "C:\\Users\\ursga\n"
     ]
    }
   ],
   "source": [
    "os.chdir(atual)\n",
    "print(atual)"
   ]
  },
  {
   "cell_type": "code",
   "execution_count": 20,
   "metadata": {},
   "outputs": [
    {
     "name": "stdout",
     "output_type": "stream",
     "text": [
      "['.anaconda', '.android', '.astropy', '.atom', '.bash_history', '.conda', '.condarc', '.continuum', '.dotnet', '.gitconfig', '.ipython', '.jupyter', '.lesshst', '.matplotlib', '.mume', '.ssh', '.viminfo', '.vscode', '.vscode-R', '3D Objects', 'Ambiente de Impressão', 'Ambiente de Rede', 'anaconda3', 'AppData', 'Configurações Locais', 'Contacts', 'Cookies', 'Dados de Aplicativos', 'Desktop', 'Documents', 'Downloads', 'edb_languagepack.exe', 'edb_languagepack_2.exe', 'edb_npgsql.exe', 'edb_pgagent_pg14.exe', 'edb_pgbouncer.exe', 'edb_pgjdbc.exe', 'edb_psqlodbc.exe', 'edb_psqlodbc.exe-20220404105102', 'edb_psqlodbc.exe-20220404161042', 'edb_psqlodbc.exe-20220404161046', 'edb_psqlodbc.exe-20220404161817', 'edb_psqlodbc.exe-20220404161821', 'Favorites', 'geckodriver.log', 'IntelGraphicsProfiles', 'Links', 'lista.txt', 'Menu Iniciar', 'Meus Documentos', 'Microsoft', 'Modelos', 'Music', 'New Folder', 'NTUSER.DAT', 'ntuser.dat.LOG1', 'ntuser.dat.LOG2', 'NTUSER.DAT{1c2b59c6-c5f5-11eb-bacb-000d3a96488e}.TM.blf', 'NTUSER.DAT{1c2b59c6-c5f5-11eb-bacb-000d3a96488e}.TMContainer00000000000000000001.regtrans-ms', 'NTUSER.DAT{1c2b59c6-c5f5-11eb-bacb-000d3a96488e}.TMContainer00000000000000000002.regtrans-ms', 'ntuser.ini', 'OneDrive', 'Pictures', 'postgresql_10.exe', 'postgresql_10.exe-20220404105114', 'postgresql_10.exe-20220404161050', 'postgresql_10.exe-20220404161105', 'postgresql_11.exe', 'postgresql_12.exe', 'postgresql_13.exe', 'postgresql_14.exe', 'postgresql_96.exe', 'postgresql_96.exe-20220404105230', 'postgresql_96.exe-20220404161125', 'postgresql_96.exe-20220404161137', 'Recent', 'Recorded Calls', 'Saved Games', 'Searches', 'SendTo', 'Videos']\n"
     ]
    }
   ],
   "source": [
    "print(os.listdir())"
   ]
  },
  {
   "cell_type": "code",
   "execution_count": null,
   "metadata": {},
   "outputs": [],
   "source": []
  }
 ],
 "metadata": {
  "kernelspec": {
   "display_name": "Python 3.10.4 64-bit",
   "language": "python",
   "name": "python3"
  },
  "language_info": {
   "codemirror_mode": {
    "name": "ipython",
    "version": 3
   },
   "file_extension": ".py",
   "mimetype": "text/x-python",
   "name": "python",
   "nbconvert_exporter": "python",
   "pygments_lexer": "ipython3",
   "version": "3.10.4"
  },
  "orig_nbformat": 4,
  "vscode": {
   "interpreter": {
    "hash": "36867f9f96ab5f78d38ee857653d6c18abd4f288034d9de0ac504a7a87222a01"
   }
  }
 },
 "nbformat": 4,
 "nbformat_minor": 2
}
