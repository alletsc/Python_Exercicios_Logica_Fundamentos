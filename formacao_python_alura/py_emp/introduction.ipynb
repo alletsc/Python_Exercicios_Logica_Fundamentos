{
 "cells": [
  {
   "cell_type": "code",
   "execution_count": 9,
   "metadata": {},
   "outputs": [],
   "source": [
    "def register_product():\n",
    "    product = input('Product: ').casefold()\n",
    "    return product\n",
    "\n",
    "    \n",
    "for i in range(3):  \n",
    "    register_product()"
   ]
  },
  {
   "cell_type": "code",
   "execution_count": 8,
   "metadata": {},
   "outputs": [
    {
     "name": "stdout",
     "output_type": "stream",
     "text": [
      "160\n"
     ]
    }
   ],
   "source": [
    "def soma(a, b):\n",
    "    return a + b\n",
    "\n",
    "print(soma(156, (2**2)))"
   ]
  },
  {
   "cell_type": "code",
   "execution_count": 10,
   "metadata": {},
   "outputs": [
    {
     "name": "stdout",
     "output_type": "stream",
     "text": [
      "Enviar para o fornecedor de Coca-Cola\n"
     ]
    }
   ],
   "source": [
    "product = ['beb46725', 'TFA23962', 'TFA64715','BSA11104', 'BSA34012']\n",
    "for i in product:\n",
    "    if i == 'TFA23962':\n",
    "        print(f'Enviar para o fornecedor de Coca-Cola')\n",
    "        "
   ]
  }
 ],
 "metadata": {
  "interpreter": {
   "hash": "580797a28c9c7fc0d4e6bdf838526c09bb14f548ab495920e1f3a7b05389bb13"
  },
  "kernelspec": {
   "display_name": "Python 3.10.0 64-bit ('venv': venv)",
   "language": "python",
   "name": "python3"
  },
  "language_info": {
   "codemirror_mode": {
    "name": "ipython",
    "version": 3
   },
   "file_extension": ".py",
   "mimetype": "text/x-python",
   "name": "python",
   "nbconvert_exporter": "python",
   "pygments_lexer": "ipython3",
   "version": "3.10.0"
  },
  "orig_nbformat": 4
 },
 "nbformat": 4,
 "nbformat_minor": 2
}
