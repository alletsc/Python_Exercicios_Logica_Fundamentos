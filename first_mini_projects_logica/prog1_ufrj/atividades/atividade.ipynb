{
 "cells": [
  {
   "cell_type": "code",
   "execution_count": 2,
   "metadata": {},
   "outputs": [
    {
     "name": "stdout",
     "output_type": "stream",
     "text": [
      "O aumento é de 10% e o novo salário é de R$13579.50\n"
     ]
    }
   ],
   "source": [
    "salario = float(input('Digite o salário: '))\n",
    "\n",
    "def calc_aumento():\n",
    "    if salario > 1250:\n",
    "        print(f'O aumento é de 10% e o novo salário é de R${salario * 1.1:.2f}')\n",
    "    else:\n",
    "        print(f'O aumento é de 15% e o novo salário é de R${salario * 1.15:.2f}')\n",
    "        \n",
    "calc_aumento()"
   ]
  },
  {
   "cell_type": "code",
   "execution_count": 3,
   "metadata": {},
   "outputs": [
    {
     "name": "stdout",
     "output_type": "stream",
     "text": [
      "O valor da passagem é de R$155.25\n"
     ]
    }
   ],
   "source": [
    "km = float(input('Digite a quantidade de km que deseja percorrer: '))\n",
    "\n",
    "def calc_passagem():\n",
    "    if km <= 200:\n",
    "        print(f'O valor da passagem é de R${km * 0.5:.2f}')\n",
    "    else:\n",
    "        print(f'O valor da passagem é de R${km * 0.45:.2f}')\n",
    "\n",
    "calc_passagem()"
   ]
  }
 ],
 "metadata": {
  "interpreter": {
   "hash": "580797a28c9c7fc0d4e6bdf838526c09bb14f548ab495920e1f3a7b05389bb13"
  },
  "kernelspec": {
   "display_name": "Python 3.10.0 64-bit ('venv': venv)",
   "language": "python",
   "name": "python3"
  },
  "language_info": {
   "codemirror_mode": {
    "name": "ipython",
    "version": 3
   },
   "file_extension": ".py",
   "mimetype": "text/x-python",
   "name": "python",
   "nbconvert_exporter": "python",
   "pygments_lexer": "ipython3",
   "version": "3.10.0"
  },
  "orig_nbformat": 4
 },
 "nbformat": 4,
 "nbformat_minor": 2
}
