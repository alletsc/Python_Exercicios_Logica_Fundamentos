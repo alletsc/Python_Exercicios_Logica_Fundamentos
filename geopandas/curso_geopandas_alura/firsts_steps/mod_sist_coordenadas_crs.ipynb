{
 "cells": [
  {
   "cell_type": "code",
   "execution_count": 1,
   "source": [
    "import geopandas as gpd"
   ],
   "outputs": [],
   "metadata": {}
  },
  {
   "cell_type": "code",
   "execution_count": 12,
   "source": [
    "rj = gpd.read_file(\r\n",
    "    'S:\\gits_stella\\Python\\python_start\\geopandas\\Mapas\\RJ\\RJ.shp')"
   ],
   "outputs": [],
   "metadata": {}
  },
  {
   "cell_type": "code",
   "execution_count": 13,
   "source": [
    "geo_dados = gpd.read_file(\r\n",
    "    \"S:\\gits_stella\\Python\\python_start\\geopandas\\Mapas\\RJ-DATASET\\DATASET.shp\")"
   ],
   "outputs": [],
   "metadata": {}
  },
  {
   "cell_type": "code",
   "execution_count": 17,
   "source": [
    "geo_dados.crs"
   ],
   "outputs": [],
   "metadata": {}
  },
  {
   "cell_type": "code",
   "execution_count": 18,
   "source": [
    "geo_dados"
   ],
   "outputs": [
    {
     "output_type": "execute_result",
     "data": {
      "text/html": [
       "<div>\n",
       "<style scoped>\n",
       "    .dataframe tbody tr th:only-of-type {\n",
       "        vertical-align: middle;\n",
       "    }\n",
       "\n",
       "    .dataframe tbody tr th {\n",
       "        vertical-align: top;\n",
       "    }\n",
       "\n",
       "    .dataframe thead th {\n",
       "        text-align: right;\n",
       "    }\n",
       "</style>\n",
       "<table border=\"1\" class=\"dataframe\">\n",
       "  <thead>\n",
       "    <tr style=\"text-align: right;\">\n",
       "      <th></th>\n",
       "      <th>Area</th>\n",
       "      <th>Bairro</th>\n",
       "      <th>Cidade</th>\n",
       "      <th>Endereco</th>\n",
       "      <th>Estado</th>\n",
       "      <th>Latitude</th>\n",
       "      <th>Longitude</th>\n",
       "      <th>Quartos</th>\n",
       "      <th>Suites</th>\n",
       "      <th>Vagas</th>\n",
       "      <th>Tipo</th>\n",
       "      <th>Transacao</th>\n",
       "      <th>Valor</th>\n",
       "      <th>geometry</th>\n",
       "    </tr>\n",
       "  </thead>\n",
       "  <tbody>\n",
       "    <tr>\n",
       "      <th>0</th>\n",
       "      <td>138</td>\n",
       "      <td>Recreio dos Bandeirantes</td>\n",
       "      <td>Rio de Janeiro</td>\n",
       "      <td>Rua Vicente Scofano</td>\n",
       "      <td>RJ</td>\n",
       "      <td>-23.016455</td>\n",
       "      <td>-43.462946</td>\n",
       "      <td>3</td>\n",
       "      <td>1</td>\n",
       "      <td>3</td>\n",
       "      <td>Apartamento</td>\n",
       "      <td>Venda</td>\n",
       "      <td>1095000</td>\n",
       "      <td>POINT (657.514 7453.832)</td>\n",
       "    </tr>\n",
       "    <tr>\n",
       "      <th>1</th>\n",
       "      <td>133</td>\n",
       "      <td>Freguesia (Jacarepaguá)</td>\n",
       "      <td>Rio de Janeiro</td>\n",
       "      <td>Rua Potiguara</td>\n",
       "      <td>RJ</td>\n",
       "      <td>-22.943199</td>\n",
       "      <td>-43.336911</td>\n",
       "      <td>3</td>\n",
       "      <td>1</td>\n",
       "      <td>2</td>\n",
       "      <td>Apartamento</td>\n",
       "      <td>Venda</td>\n",
       "      <td>650000</td>\n",
       "      <td>POINT (670.524 7461.803)</td>\n",
       "    </tr>\n",
       "    <tr>\n",
       "      <th>2</th>\n",
       "      <td>46</td>\n",
       "      <td>Pilares</td>\n",
       "      <td>Rio de Janeiro</td>\n",
       "      <td>Rua Professor Carneiro Felipe</td>\n",
       "      <td>RJ</td>\n",
       "      <td>-22.873849</td>\n",
       "      <td>-43.300517</td>\n",
       "      <td>1</td>\n",
       "      <td>0</td>\n",
       "      <td>0</td>\n",
       "      <td>Apartamento</td>\n",
       "      <td>Venda</td>\n",
       "      <td>150000</td>\n",
       "      <td>POINT (674.345 7469.440)</td>\n",
       "    </tr>\n",
       "    <tr>\n",
       "      <th>3</th>\n",
       "      <td>65</td>\n",
       "      <td>Barra da Tijuca</td>\n",
       "      <td>Rio de Janeiro</td>\n",
       "      <td>Avenida Salvador Allende</td>\n",
       "      <td>RJ</td>\n",
       "      <td>-22.984787</td>\n",
       "      <td>-43.412703</td>\n",
       "      <td>2</td>\n",
       "      <td>1</td>\n",
       "      <td>1</td>\n",
       "      <td>Apartamento</td>\n",
       "      <td>Venda</td>\n",
       "      <td>430000</td>\n",
       "      <td>POINT (662.701 7457.284)</td>\n",
       "    </tr>\n",
       "    <tr>\n",
       "      <th>4</th>\n",
       "      <td>85</td>\n",
       "      <td>Gávea</td>\n",
       "      <td>Rio de Janeiro</td>\n",
       "      <td>Rua Marquês de São Vicente</td>\n",
       "      <td>RJ</td>\n",
       "      <td>-14.235004</td>\n",
       "      <td>-51.925280</td>\n",
       "      <td>2</td>\n",
       "      <td>1</td>\n",
       "      <td>2</td>\n",
       "      <td>Apartamento</td>\n",
       "      <td>Venda</td>\n",
       "      <td>1800000</td>\n",
       "      <td>POINT (-248.715 8415.117)</td>\n",
       "    </tr>\n",
       "    <tr>\n",
       "      <th>...</th>\n",
       "      <td>...</td>\n",
       "      <td>...</td>\n",
       "      <td>...</td>\n",
       "      <td>...</td>\n",
       "      <td>...</td>\n",
       "      <td>...</td>\n",
       "      <td>...</td>\n",
       "      <td>...</td>\n",
       "      <td>...</td>\n",
       "      <td>...</td>\n",
       "      <td>...</td>\n",
       "      <td>...</td>\n",
       "      <td>...</td>\n",
       "      <td>...</td>\n",
       "    </tr>\n",
       "    <tr>\n",
       "      <th>4995</th>\n",
       "      <td>48</td>\n",
       "      <td>Campo Grande</td>\n",
       "      <td>Rio de Janeiro</td>\n",
       "      <td>Rua Josué de Barros</td>\n",
       "      <td>RJ</td>\n",
       "      <td>-22.878349</td>\n",
       "      <td>-43.550762</td>\n",
       "      <td>2</td>\n",
       "      <td>0</td>\n",
       "      <td>1</td>\n",
       "      <td>Apartamento</td>\n",
       "      <td>Venda</td>\n",
       "      <td>170000</td>\n",
       "      <td>POINT (648.664 7469.216)</td>\n",
       "    </tr>\n",
       "    <tr>\n",
       "      <th>4996</th>\n",
       "      <td>75</td>\n",
       "      <td>Recreio dos Bandeirantes</td>\n",
       "      <td>Rio de Janeiro</td>\n",
       "      <td>Rua Le Corbusier</td>\n",
       "      <td>RJ</td>\n",
       "      <td>-23.024717</td>\n",
       "      <td>-43.487285</td>\n",
       "      <td>3</td>\n",
       "      <td>1</td>\n",
       "      <td>1</td>\n",
       "      <td>Apartamento</td>\n",
       "      <td>Venda</td>\n",
       "      <td>550000</td>\n",
       "      <td>POINT (655.010 7452.944)</td>\n",
       "    </tr>\n",
       "    <tr>\n",
       "      <th>4997</th>\n",
       "      <td>32</td>\n",
       "      <td>Jardim Botânico</td>\n",
       "      <td>Rio de Janeiro</td>\n",
       "      <td>Rua Getúlio das Neves</td>\n",
       "      <td>RJ</td>\n",
       "      <td>-22.959433</td>\n",
       "      <td>-43.206180</td>\n",
       "      <td>1</td>\n",
       "      <td>0</td>\n",
       "      <td>0</td>\n",
       "      <td>Apartamento</td>\n",
       "      <td>Venda</td>\n",
       "      <td>580000</td>\n",
       "      <td>POINT (683.909 7459.848)</td>\n",
       "    </tr>\n",
       "    <tr>\n",
       "      <th>4998</th>\n",
       "      <td>85</td>\n",
       "      <td>Grajaú</td>\n",
       "      <td>Rio de Janeiro</td>\n",
       "      <td>Rua Jerônimo de Lemos</td>\n",
       "      <td>RJ</td>\n",
       "      <td>-22.918773</td>\n",
       "      <td>-43.260492</td>\n",
       "      <td>3</td>\n",
       "      <td>0</td>\n",
       "      <td>0</td>\n",
       "      <td>Apartamento</td>\n",
       "      <td>Venda</td>\n",
       "      <td>325000</td>\n",
       "      <td>POINT (678.393 7464.417)</td>\n",
       "    </tr>\n",
       "    <tr>\n",
       "      <th>4999</th>\n",
       "      <td>52</td>\n",
       "      <td>Campo Grande</td>\n",
       "      <td>Rio de Janeiro</td>\n",
       "      <td>Rua Sílvio Fontes</td>\n",
       "      <td>RJ</td>\n",
       "      <td>-22.882881</td>\n",
       "      <td>-43.491146</td>\n",
       "      <td>2</td>\n",
       "      <td>0</td>\n",
       "      <td>0</td>\n",
       "      <td>Apartamento</td>\n",
       "      <td>Venda</td>\n",
       "      <td>135000</td>\n",
       "      <td>POINT (654.775 7468.653)</td>\n",
       "    </tr>\n",
       "  </tbody>\n",
       "</table>\n",
       "<p>5000 rows × 14 columns</p>\n",
       "</div>"
      ],
      "text/plain": [
       "      Area                    Bairro          Cidade  \\\n",
       "0      138  Recreio dos Bandeirantes  Rio de Janeiro   \n",
       "1      133   Freguesia (Jacarepaguá)  Rio de Janeiro   \n",
       "2       46                   Pilares  Rio de Janeiro   \n",
       "3       65           Barra da Tijuca  Rio de Janeiro   \n",
       "4       85                     Gávea  Rio de Janeiro   \n",
       "...    ...                       ...             ...   \n",
       "4995    48              Campo Grande  Rio de Janeiro   \n",
       "4996    75  Recreio dos Bandeirantes  Rio de Janeiro   \n",
       "4997    32           Jardim Botânico  Rio de Janeiro   \n",
       "4998    85                    Grajaú  Rio de Janeiro   \n",
       "4999    52              Campo Grande  Rio de Janeiro   \n",
       "\n",
       "                           Endereco Estado   Latitude  Longitude  Quartos  \\\n",
       "0               Rua Vicente Scofano     RJ -23.016455 -43.462946        3   \n",
       "1                     Rua Potiguara     RJ -22.943199 -43.336911        3   \n",
       "2     Rua Professor Carneiro Felipe     RJ -22.873849 -43.300517        1   \n",
       "3          Avenida Salvador Allende     RJ -22.984787 -43.412703        2   \n",
       "4        Rua Marquês de São Vicente     RJ -14.235004 -51.925280        2   \n",
       "...                             ...    ...        ...        ...      ...   \n",
       "4995            Rua Josué de Barros     RJ -22.878349 -43.550762        2   \n",
       "4996               Rua Le Corbusier     RJ -23.024717 -43.487285        3   \n",
       "4997          Rua Getúlio das Neves     RJ -22.959433 -43.206180        1   \n",
       "4998          Rua Jerônimo de Lemos     RJ -22.918773 -43.260492        3   \n",
       "4999              Rua Sílvio Fontes     RJ -22.882881 -43.491146        2   \n",
       "\n",
       "      Suites  Vagas         Tipo Transacao    Valor                   geometry  \n",
       "0          1      3  Apartamento     Venda  1095000   POINT (657.514 7453.832)  \n",
       "1          1      2  Apartamento     Venda   650000   POINT (670.524 7461.803)  \n",
       "2          0      0  Apartamento     Venda   150000   POINT (674.345 7469.440)  \n",
       "3          1      1  Apartamento     Venda   430000   POINT (662.701 7457.284)  \n",
       "4          1      2  Apartamento     Venda  1800000  POINT (-248.715 8415.117)  \n",
       "...      ...    ...          ...       ...      ...                        ...  \n",
       "4995       0      1  Apartamento     Venda   170000   POINT (648.664 7469.216)  \n",
       "4996       1      1  Apartamento     Venda   550000   POINT (655.010 7452.944)  \n",
       "4997       0      0  Apartamento     Venda   580000   POINT (683.909 7459.848)  \n",
       "4998       0      0  Apartamento     Venda   325000   POINT (678.393 7464.417)  \n",
       "4999       0      0  Apartamento     Venda   135000   POINT (654.775 7468.653)  \n",
       "\n",
       "[5000 rows x 14 columns]"
      ]
     },
     "metadata": {},
     "execution_count": 18
    }
   ],
   "metadata": {}
  },
  {
   "cell_type": "code",
   "execution_count": null,
   "source": [
    "#unificando crs http://www.spatialreference.org/\r\n",
    "rj = rj.to_crs(\r\n",
    "    '+proj=utm +zone=23 +south +ellps=GRS80 +towgs84=0,0,0,0,0,0,0 +units=km +no_defs')\r\n",
    "geo_dados = geo_dados.to_crs(\r\n",
    "    '+proj=utm +zone=23 +south +ellps=GRS80 +towgs84=0,0,0,0,0,0,0 +units=km +no_defs')\r\n"
   ],
   "outputs": [],
   "metadata": {}
  },
  {
   "cell_type": "code",
   "execution_count": 22,
   "source": [
    "rj.to_file('RJ-MUNIC.shp')\r\n",
    "geo_dados.to_file('DATASET.shp')"
   ],
   "outputs": [],
   "metadata": {}
  },
  {
   "cell_type": "code",
   "execution_count": 24,
   "source": [
    "rj2 = gpd.read_file(\r\n",
    "    'S:\\gits_stella\\Python\\python_start\\geopandas\\RJ-MUNIC.shp')\r\n",
    "geo_dados2 = gpd.read_file(\r\n",
    "    'S:\\gits_stella\\Python\\python_start\\geopandas\\DATASET.shp')"
   ],
   "outputs": [],
   "metadata": {}
  },
  {
   "cell_type": "code",
   "execution_count": 25,
   "source": [
    "rj2.plot()"
   ],
   "outputs": [
    {
     "output_type": "execute_result",
     "data": {
      "text/plain": [
       "<AxesSubplot:>"
      ]
     },
     "metadata": {},
     "execution_count": 25
    },
    {
     "output_type": "display_data",
     "data": {
      "image/png": "[encoded data removed]",
      "text/plain": [
       "<Figure size 432x288 with 1 Axes>"
      ]
     },
     "metadata": {
      "needs_background": "light"
     }
    }
   ],
   "metadata": {}
  },
  {
   "cell_type": "code",
   "execution_count": 26,
   "source": [
    "geo_dados2.plot()"
   ],
   "outputs": [
    {
     "output_type": "execute_result",
     "data": {
      "text/plain": [
       "<AxesSubplot:>"
      ]
     },
     "metadata": {},
     "execution_count": 26
    },
    {
     "output_type": "display_data",
     "data": {
      "image/png": "[encoded data removed]",
      "text/plain": [
       "<Figure size 432x288 with 1 Axes>"
      ]
     },
     "metadata": {
      "needs_background": "light"
     }
    }
   ],
   "metadata": {}
  }
 ],
 "metadata": {
  "orig_nbformat": 4,
  "language_info": {
   "name": "python",
   "version": "3.9.7",
   "mimetype": "text/x-python",
   "codemirror_mode": {
    "name": "ipython",
    "version": 3
   },
   "pygments_lexer": "ipython3",
   "nbconvert_exporter": "python",
   "file_extension": ".py"
  },
  "kernelspec": {
   "name": "python3",
   "display_name": "Python 3.9.7 64-bit ('geopandas_alura': conda)"
  },
  "interpreter": {
   "hash": "f45ad935e6275015147e1091e3895712926a16a94b58e16e523d21bae1777c1b"
  }
 },
 "nbformat": 4,
 "nbformat_minor": 2
}