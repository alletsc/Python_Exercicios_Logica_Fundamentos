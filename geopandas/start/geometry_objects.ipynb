{
 "cells": [
  {
   "cell_type": "code",
   "execution_count": 12,
   "source": [
    "from shapely.geometry import Point, LineString, Polygon"
   ],
   "outputs": [],
   "metadata": {}
  },
  {
   "cell_type": "markdown",
   "source": [
    "# Points\r\n",
    "\r\n",
    "aplicação: pontos de interesse, residencias, localidade de furto..."
   ],
   "metadata": {}
  },
  {
   "cell_type": "code",
   "execution_count": 5,
   "source": [
    "#para criar um objeto point se passa as coordenas x e y\r\n",
    "p1 = Point(5,10)\r\n",
    "print(type(p1))\r\n",
    "p1"
   ],
   "outputs": [
    {
     "output_type": "stream",
     "name": "stdout",
     "text": [
      "<class 'shapely.geometry.point.Point'>\n"
     ]
    },
    {
     "output_type": "execute_result",
     "data": {
      "image/svg+xml": "<svg xmlns=\"http://www.w3.org/2000/svg\" xmlns:xlink=\"http://www.w3.org/1999/xlink\" width=\"100.0\" height=\"100.0\" viewBox=\"4.0 9.0 2.0 2.0\" preserveAspectRatio=\"xMinYMin meet\"><g transform=\"matrix(1,0,0,-1,0,20.0)\"><circle cx=\"5.0\" cy=\"10.0\" r=\"0.06\" stroke=\"#555555\" stroke-width=\"0.02\" fill=\"#66cc99\" opacity=\"0.6\" /></g></svg>",
      "text/plain": [
       "<shapely.geometry.point.Point at 0x27828b117f0>"
      ]
     },
     "metadata": {},
     "execution_count": 5
    }
   ],
   "metadata": {}
  },
  {
   "cell_type": "code",
   "execution_count": 7,
   "source": [
    "#coordenadas de um point\r\n",
    "p1.coords\r\n",
    "list(p1.coords)"
   ],
   "outputs": [
    {
     "output_type": "execute_result",
     "data": {
      "text/plain": [
       "[(5.0, 10.0)]"
      ]
     },
     "metadata": {},
     "execution_count": 7
    }
   ],
   "metadata": {}
  },
  {
   "cell_type": "code",
   "execution_count": 8,
   "source": [
    "#distancia entre dois pontos\r\n",
    "p1 = Point(2,3)\r\n",
    "p2 = Point(5,7)\r\n",
    "\r\n",
    "dis = p1.distance(p2)\r\n",
    "dis"
   ],
   "outputs": [
    {
     "output_type": "execute_result",
     "data": {
      "text/plain": [
       "5.0"
      ]
     },
     "metadata": {},
     "execution_count": 8
    }
   ],
   "metadata": {}
  },
  {
   "cell_type": "markdown",
   "source": [
    "# Line String\r\n",
    "\r\n",
    "composto por mais de um ponto e uma linha q os conecta\r\n",
    "\r\n",
    "exmplos de uso: trajetorias, caminhos, fronteiras..."
   ],
   "metadata": {}
  },
  {
   "cell_type": "code",
   "execution_count": 16,
   "source": [
    "p1 = Point(2,3)\r\n",
    "p2 = Point(5,7)\r\n",
    "p3 = Point(2,10)\r\n",
    "\r\n",
    "linha = LineString([p1,p2,p3])\r\n",
    "print(linha, type(linha))\r\n",
    "linha"
   ],
   "outputs": [
    {
     "output_type": "stream",
     "name": "stdout",
     "text": [
      "LINESTRING (2 3, 5 7, 2 10) <class 'shapely.geometry.linestring.LineString'>\n"
     ]
    },
    {
     "output_type": "execute_result",
     "data": {
      "image/svg+xml": "<svg xmlns=\"http://www.w3.org/2000/svg\" xmlns:xlink=\"http://www.w3.org/1999/xlink\" width=\"100.0\" height=\"100.0\" viewBox=\"1.72 2.7199999999999998 3.5600000000000005 7.56\" preserveAspectRatio=\"xMinYMin meet\"><g transform=\"matrix(1,0,0,-1,0,13.0)\"><polyline fill=\"none\" stroke=\"#66cc99\" stroke-width=\"0.1512\" points=\"2.0,3.0 5.0,7.0 2.0,10.0\" opacity=\"0.8\" /></g></svg>",
      "text/plain": [
       "<shapely.geometry.linestring.LineString at 0x2782977f5b0>"
      ]
     },
     "metadata": {},
     "execution_count": 16
    }
   ],
   "metadata": {}
  },
  {
   "cell_type": "code",
   "execution_count": 17,
   "source": [
    "#coordenadas\r\n",
    "list(linha.coords)"
   ],
   "outputs": [
    {
     "output_type": "execute_result",
     "data": {
      "text/plain": [
       "[(2.0, 3.0), (5.0, 7.0), (2.0, 10.0)]"
      ]
     },
     "metadata": {},
     "execution_count": 17
    }
   ],
   "metadata": {}
  },
  {
   "cell_type": "code",
   "execution_count": 18,
   "source": [
    "#comprimento linha\r\n",
    "linha.length"
   ],
   "outputs": [
    {
     "output_type": "execute_result",
     "data": {
      "text/plain": [
       "9.242640687119284"
      ]
     },
     "metadata": {},
     "execution_count": 18
    }
   ],
   "metadata": {}
  },
  {
   "cell_type": "code",
   "execution_count": 19,
   "source": [
    "#obter o ponto central\r\n",
    "linha.centroid"
   ],
   "outputs": [
    {
     "output_type": "execute_result",
     "data": {
      "image/svg+xml": "<svg xmlns=\"http://www.w3.org/2000/svg\" xmlns:xlink=\"http://www.w3.org/1999/xlink\" width=\"100.0\" height=\"100.0\" viewBox=\"2.5000000000000004 5.606601717798214 1.9999999999999996 2.0\" preserveAspectRatio=\"xMinYMin meet\"><g transform=\"matrix(1,0,0,-1,0,13.213203435596428)\"><circle cx=\"3.5000000000000004\" cy=\"6.606601717798214\" r=\"0.06\" stroke=\"#555555\" stroke-width=\"0.02\" fill=\"#66cc99\" opacity=\"0.6\" /></g></svg>",
      "text/plain": [
       "<shapely.geometry.point.Point at 0x27827606370>"
      ]
     },
     "metadata": {},
     "execution_count": 19
    }
   ],
   "metadata": {}
  },
  {
   "cell_type": "markdown",
   "source": [
    "# Polygon\r\n",
    "\r\n",
    "Necessita de três coordenadas \r\n",
    "\r\n",
    "Diversos pontos interligados com preenchimento e o ultimo ponto ligado ao primeiro\r\n",
    "\r\n",
    "Exemplo aplicações: divisões administrativas, acidente geografico, edficações"
   ],
   "metadata": {}
  },
  {
   "cell_type": "code",
   "execution_count": 22,
   "source": [
    "polygon = Polygon([(2,3), (5,7), (2,10)]) #em py não precisa passar o ultimo ponto\r\n",
    "print(polygon, type(polygon))\r\n",
    "polygon"
   ],
   "outputs": [
    {
     "output_type": "stream",
     "name": "stdout",
     "text": [
      "POLYGON ((2 3, 5 7, 2 10, 2 3)) <class 'shapely.geometry.polygon.Polygon'>\n"
     ]
    },
    {
     "output_type": "execute_result",
     "data": {
      "image/svg+xml": "<svg xmlns=\"http://www.w3.org/2000/svg\" xmlns:xlink=\"http://www.w3.org/1999/xlink\" width=\"100.0\" height=\"100.0\" viewBox=\"1.72 2.7199999999999998 3.5600000000000005 7.56\" preserveAspectRatio=\"xMinYMin meet\"><g transform=\"matrix(1,0,0,-1,0,13.0)\"><path fill-rule=\"evenodd\" fill=\"#66cc99\" stroke=\"#555555\" stroke-width=\"0.1512\" opacity=\"0.6\" d=\"M 2.0,3.0 L 5.0,7.0 L 2.0,10.0 L 2.0,3.0 z\" /></g></svg>",
      "text/plain": [
       "<shapely.geometry.polygon.Polygon at 0x2782977f550>"
      ]
     },
     "metadata": {},
     "execution_count": 22
    }
   ],
   "metadata": {}
  },
  {
   "cell_type": "code",
   "execution_count": 24,
   "source": [
    "# coordenadas\r\n",
    "list(polygon.exterior.coords)"
   ],
   "outputs": [
    {
     "output_type": "execute_result",
     "data": {
      "text/plain": [
       "[(2.0, 3.0), (5.0, 7.0), (2.0, 10.0), (2.0, 3.0)]"
      ]
     },
     "metadata": {},
     "execution_count": 24
    }
   ],
   "metadata": {}
  },
  {
   "cell_type": "code",
   "execution_count": 28,
   "source": [
    "# area \r\n",
    "print(polygon.area)\r\n",
    "\r\n",
    "#centroid\r\n",
    "print(polygon.centroid)\r\n",
    "polygon.centroid"
   ],
   "outputs": [
    {
     "output_type": "stream",
     "name": "stdout",
     "text": [
      "10.5\n",
      "POINT (3 6.666666666666667)\n"
     ]
    },
    {
     "output_type": "execute_result",
     "data": {
      "image/svg+xml": "<svg xmlns=\"http://www.w3.org/2000/svg\" xmlns:xlink=\"http://www.w3.org/1999/xlink\" width=\"100.0\" height=\"100.0\" viewBox=\"2.0 5.666666666666667 2.0 2.0\" preserveAspectRatio=\"xMinYMin meet\"><g transform=\"matrix(1,0,0,-1,0,13.333333333333334)\"><circle cx=\"3.0\" cy=\"6.666666666666667\" r=\"0.06\" stroke=\"#555555\" stroke-width=\"0.02\" fill=\"#66cc99\" opacity=\"0.6\" /></g></svg>",
      "text/plain": [
       "<shapely.geometry.point.Point at 0x2782761dd30>"
      ]
     },
     "metadata": {},
     "execution_count": 28
    }
   ],
   "metadata": {}
  },
  {
   "cell_type": "code",
   "execution_count": 29,
   "source": [
    "# coordenadas bouding box (extremas, min e mx)\r\n",
    "polygon.bounds"
   ],
   "outputs": [
    {
     "output_type": "execute_result",
     "data": {
      "text/plain": [
       "(2.0, 3.0, 5.0, 10.0)"
      ]
     },
     "metadata": {},
     "execution_count": 29
    }
   ],
   "metadata": {}
  },
  {
   "cell_type": "code",
   "execution_count": 31,
   "source": [
    "#coord exterior\r\n",
    "polygon.exterior\r\n",
    "print(polygon.exterior)"
   ],
   "outputs": [
    {
     "output_type": "stream",
     "name": "stdout",
     "text": [
      "LINEARRING (2 3, 5 7, 2 10, 2 3)\n"
     ]
    }
   ],
   "metadata": {}
  },
  {
   "cell_type": "markdown",
   "source": [
    "# OPerações com figuras geometricas"
   ],
   "metadata": {}
  },
  {
   "cell_type": "code",
   "execution_count": 37,
   "source": [
    "#criar 2 circulos\r\n",
    "c1 = Point(1,1).buffer(1)\r\n",
    "c2 = Point(2,1).buffer(1)\r\n",
    "type(c1)"
   ],
   "outputs": [
    {
     "output_type": "execute_result",
     "data": {
      "text/plain": [
       "shapely.geometry.polygon.Polygon"
      ]
     },
     "metadata": {},
     "execution_count": 37
    }
   ],
   "metadata": {}
  },
  {
   "cell_type": "code",
   "execution_count": 35,
   "source": [
    "c1\r\n",
    "c2"
   ],
   "outputs": [
    {
     "output_type": "execute_result",
     "data": {
      "image/svg+xml": "<svg xmlns=\"http://www.w3.org/2000/svg\" xmlns:xlink=\"http://www.w3.org/1999/xlink\" width=\"100.0\" height=\"100.0\" viewBox=\"0.92 -0.08 2.16 2.16\" preserveAspectRatio=\"xMinYMin meet\"><g transform=\"matrix(1,0,0,-1,0,2.0)\"><path fill-rule=\"evenodd\" fill=\"#66cc99\" stroke=\"#555555\" stroke-width=\"0.0432\" opacity=\"0.6\" d=\"M 3.0,1.0 L 2.995184726672197,0.9019828596704395 L 2.9807852804032304,0.8049096779838719 L 2.956940335732209,0.709715322745538 L 2.923879532511287,0.6173165676349106 L 2.8819212643483554,0.5286032631740027 L 2.831469612302546,0.44442976698039827 L 2.7730104533627373,0.36560671583635507 L 2.707106781186548,0.2928932188134531 L 2.634393284163646,0.22698954663726367 L 2.555570233019603,0.16853038769745532 L 2.471396736825999,0.1180787356516455 L 2.382683432365091,0.0761204674887137 L 2.290284677254464,0.04305966426779151 L 2.1950903220161297,0.01921471959676979 L 2.098017140329562,0.004815273327803293 L 2.0000000000000018,0.0 L 1.9019828596704411,0.00481527332780296 L 1.8049096779838736,0.019214719596769236 L 1.7097153227455395,0.04305966426779051 L 1.6173165676349122,0.07612046748871248 L 1.5286032631740043,0.11807873565164395 L 1.4444297669803996,0.16853038769745365 L 1.3656067158363565,0.22698954663726145 L 1.292893218813454,0.2928932188134509 L 1.2269895466372647,0.3656067158363524 L 1.1685303876974562,0.4444297669803957 L 1.1180787356516464,0.5286032631739999 L 1.0761204674887144,0.6173165676349077 L 1.043059664267792,0.7097153227455346 L 1.01921471959677,0.8049096779838688 L 1.0048152733278033,0.9019828596704361 L 1.0,0.9999999999999968 L 1.0048152733278028,1.0980171403295576 L 1.019214719596769,1.1950903220161249 L 1.04305966426779,1.2902846772544592 L 1.0761204674887117,1.3826834323650863 L 1.1180787356516433,1.4713967368259944 L 1.1685303876974524,1.555570233019599 L 1.2269895466372605,1.6343932841636426 L 1.2928932188134494,1.7071067811865446 L 1.3656067158363514,1.7730104533627344 L 1.4444297669803943,1.8314696123025427 L 1.528603263173998,1.8819212643483527 L 1.6173165676349064,1.9238795325112852 L 1.7097153227455333,1.9569403357322077 L 1.804909677983867,1.9807852804032295 L 1.9019828596704342,1.9951847266721963 L 1.9999999999999953,2.0 L 2.0980171403295556,1.9951847266721974 L 2.195090322016123,1.9807852804032313 L 2.2902846772544576,1.9569403357322104 L 2.382683432365085,1.9238795325112887 L 2.471396736825993,1.8819212643483576 L 2.5555702330195973,1.8314696123025485 L 2.6343932841636413,1.7730104533627402 L 2.7071067811865435,1.7071067811865515 L 2.7730104533627333,1.6343932841636502 L 2.831469612302542,1.5555702330196075 L 2.8819212643483523,1.4713967368260026 L 2.9238795325112843,1.3826834323650954 L 2.956940335732207,1.2902846772544685 L 2.980785280403229,1.1950903220161349 L 2.9951847266721963,1.0980171403295667 L 3.0,1.0 z\" /></g></svg>",
      "text/plain": [
       "<shapely.geometry.polygon.Polygon at 0x2782760ac10>"
      ]
     },
     "metadata": {},
     "execution_count": 35
    }
   ],
   "metadata": {}
  },
  {
   "cell_type": "code",
   "execution_count": 38,
   "source": [
    "import matplotlib.pyplot as plt"
   ],
   "outputs": [],
   "metadata": {}
  },
  {
   "cell_type": "code",
   "execution_count": 40,
   "source": [
    "x,y = c1.exterior.xy\r\n",
    "plt.plot(x,y)\r\n",
    "\r\n",
    "x,y = c2.exterior.xy\r\n",
    "plt.plot(x,y)\r\n",
    "\r\n",
    "plt.show()"
   ],
   "outputs": [
    {
     "output_type": "display_data",
     "data": {
      "image/png": "[encoded data removed]",
      "text/plain": [
       "<Figure size 432x288 with 1 Axes>"
      ]
     },
     "metadata": {
      "needs_background": "light"
     }
    }
   ],
   "metadata": {}
  },
  {
   "cell_type": "code",
   "execution_count": 41,
   "source": [
    "# Interseção\r\n",
    "\r\n",
    "inter = c1.intersection(c2)\r\n",
    "inter"
   ],
   "outputs": [
    {
     "output_type": "execute_result",
     "data": {
      "image/svg+xml": "<svg xmlns=\"http://www.w3.org/2000/svg\" xmlns:xlink=\"http://www.w3.org/1999/xlink\" width=\"100.0\" height=\"100.0\" viewBox=\"0.9308178297460941 0.0660407015722697 1.138364340507812 1.8679185968554606\" preserveAspectRatio=\"xMinYMin meet\"><g transform=\"matrix(1,0,0,-1,0,2.0)\"><path fill-rule=\"evenodd\" fill=\"#66cc99\" stroke=\"#555555\" stroke-width=\"0.03735837193710921\" opacity=\"0.6\" d=\"M 1.995184726672197,0.9019828596704395 L 1.9807852804032304,0.8049096779838719 L 1.956940335732209,0.709715322745538 L 1.923879532511287,0.6173165676349106 L 1.8819212643483554,0.5286032631740027 L 1.8314696123025456,0.44442976698039827 L 1.7730104533627373,0.36560671583635507 L 1.7071067811865481,0.2928932188134531 L 1.6343932841636462,0.22698954663726367 L 1.555570233019603,0.16853038769745532 L 1.5,0.13522287182617565 L 1.4444297669803996,0.16853038769745365 L 1.3656067158363565,0.22698954663726145 L 1.292893218813454,0.2928932188134509 L 1.2269895466372647,0.3656067158363524 L 1.1685303876974562,0.4444297669803957 L 1.1180787356516464,0.5286032631739999 L 1.0761204674887144,0.6173165676349077 L 1.043059664267792,0.7097153227455346 L 1.01921471959677,0.8049096779838688 L 1.0048152733278033,0.9019828596704361 L 1.0,0.9999999999999968 L 1.0048152733278028,1.0980171403295576 L 1.019214719596769,1.1950903220161249 L 1.04305966426779,1.2902846772544592 L 1.0761204674887117,1.3826834323650863 L 1.1180787356516433,1.4713967368259944 L 1.1685303876974524,1.555570233019599 L 1.2269895466372605,1.6343932841636426 L 1.2928932188134494,1.7071067811865446 L 1.3656067158363514,1.7730104533627344 L 1.4444297669803943,1.8314696123025427 L 1.5,1.8647771281738243 L 1.5555702330195973,1.8314696123025485 L 1.6343932841636415,1.7730104533627402 L 1.7071067811865435,1.7071067811865515 L 1.7730104533627333,1.6343932841636502 L 1.8314696123025418,1.5555702330196075 L 1.8819212643483523,1.4713967368260026 L 1.9238795325112843,1.3826834323650954 L 1.956940335732207,1.2902846772544685 L 1.980785280403229,1.1950903220161349 L 1.9951847266721963,1.0980171403295667 L 2.0,1.0 L 1.995184726672197,0.9019828596704395 z\" /></g></svg>",
      "text/plain": [
       "<shapely.geometry.polygon.Polygon at 0x27829ece280>"
      ]
     },
     "metadata": {},
     "execution_count": 41
    }
   ],
   "metadata": {}
  },
  {
   "cell_type": "code",
   "execution_count": 42,
   "source": [
    "# união\r\n",
    "\r\n",
    "union =c1.union(c2)\r\n",
    "union"
   ],
   "outputs": [
    {
     "output_type": "execute_result",
     "data": {
      "image/svg+xml": "<svg xmlns=\"http://www.w3.org/2000/svg\" xmlns:xlink=\"http://www.w3.org/1999/xlink\" width=\"100.0\" height=\"100.0\" viewBox=\"-0.12 -0.12 3.24 2.24\" preserveAspectRatio=\"xMinYMin meet\"><g transform=\"matrix(1,0,0,-1,0,2.0)\"><path fill-rule=\"evenodd\" fill=\"#66cc99\" stroke=\"#555555\" stroke-width=\"0.06480000000000001\" opacity=\"0.6\" d=\"M 1.4713967368259986,0.1180787356516455 L 1.382683432365091,0.0761204674887137 L 1.2902846772544636,0.04305966426779151 L 1.1950903220161297,0.01921471959676979 L 1.098017140329562,0.004815273327803293 L 1.0000000000000016,0.0 L 0.9019828596704411,0.00481527332780296 L 0.8049096779838736,0.019214719596769236 L 0.7097153227455395,0.04305966426779051 L 0.6173165676349122,0.07612046748871248 L 0.5286032631740043,0.11807873565164395 L 0.4444297669803995,0.16853038769745365 L 0.3656067158363564,0.22698954663726145 L 0.2928932188134541,0.2928932188134509 L 0.22698954663726467,0.3656067158363524 L 0.1685303876974562,0.4444297669803957 L 0.11807873565164628,0.5286032631739999 L 0.07612046748871426,0.6173165676349077 L 0.043059664267792064,0.7097153227455346 L 0.019214719596770125,0.8049096779838688 L 0.004815273327803404,0.9019828596704361 L 0.0,0.9999999999999968 L 0.004815273327802849,1.0980171403295576 L 0.019214719596768903,1.1950903220161249 L 0.043059664267790176,1.2902846772544592 L 0.07612046748871182,1.3826834323650863 L 0.11807873565164329,1.4713967368259944 L 0.16853038769745254,1.555570233019599 L 0.22698954663726056,1.6343932841636426 L 0.29289321881344954,1.7071067811865446 L 0.3656067158363514,1.7730104533627344 L 0.44442976698039416,1.8314696123025427 L 0.5286032631739982,1.8819212643483527 L 0.6173165676349064,1.9238795325112852 L 0.7097153227455333,1.9569403357322077 L 0.8049096779838669,1.9807852804032295 L 0.9019828596704342,1.9951847266721963 L 0.9999999999999953,2.0 L 1.0980171403295556,1.9951847266721974 L 1.195090322016123,1.9807852804032313 L 1.2902846772544578,1.9569403357322104 L 1.3826834323650852,1.9238795325112887 L 1.4713967368259928,1.8819212643483576 L 1.5,1.8647771281738243 L 1.528603263173998,1.8819212643483527 L 1.6173165676349064,1.9238795325112852 L 1.7097153227455333,1.9569403357322077 L 1.804909677983867,1.9807852804032295 L 1.9019828596704342,1.9951847266721963 L 1.9999999999999953,2.0 L 2.0980171403295556,1.9951847266721974 L 2.195090322016123,1.9807852804032313 L 2.2902846772544576,1.9569403357322104 L 2.382683432365085,1.9238795325112887 L 2.471396736825993,1.8819212643483576 L 2.5555702330195973,1.8314696123025485 L 2.6343932841636413,1.7730104533627402 L 2.7071067811865435,1.7071067811865515 L 2.7730104533627333,1.6343932841636502 L 2.831469612302542,1.5555702330196075 L 2.8819212643483523,1.4713967368260026 L 2.9238795325112843,1.3826834323650954 L 2.956940335732207,1.2902846772544685 L 2.980785280403229,1.1950903220161349 L 2.9951847266721963,1.0980171403295667 L 3.0,1.0 L 2.995184726672197,0.9019828596704395 L 2.9807852804032304,0.8049096779838719 L 2.956940335732209,0.709715322745538 L 2.923879532511287,0.6173165676349106 L 2.8819212643483554,0.5286032631740027 L 2.831469612302546,0.44442976698039827 L 2.7730104533627373,0.36560671583635507 L 2.707106781186548,0.2928932188134531 L 2.634393284163646,0.22698954663726367 L 2.555570233019603,0.16853038769745532 L 2.471396736825999,0.1180787356516455 L 2.382683432365091,0.0761204674887137 L 2.290284677254464,0.04305966426779151 L 2.1950903220161297,0.01921471959676979 L 2.098017140329562,0.004815273327803293 L 2.0000000000000018,0.0 L 1.9019828596704411,0.00481527332780296 L 1.8049096779838736,0.019214719596769236 L 1.7097153227455395,0.04305966426779051 L 1.6173165676349122,0.07612046748871248 L 1.5286032631740043,0.11807873565164395 L 1.5,0.13522287182617565 L 1.4713967368259986,0.1180787356516455 z\" /></g></svg>",
      "text/plain": [
       "<shapely.geometry.polygon.Polygon at 0x2782ace4c70>"
      ]
     },
     "metadata": {},
     "execution_count": 42
    }
   ],
   "metadata": {}
  },
  {
   "cell_type": "code",
   "execution_count": 46,
   "source": [
    "# Diferença\r\n",
    "c1.difference(c2)"
   ],
   "outputs": [
    {
     "output_type": "execute_result",
     "data": {
      "image/svg+xml": "<svg xmlns=\"http://www.w3.org/2000/svg\" xmlns:xlink=\"http://www.w3.org/1999/xlink\" width=\"100.0\" height=\"100.0\" viewBox=\"-0.08 -0.08 1.6600000000000001 2.16\" preserveAspectRatio=\"xMinYMin meet\"><g transform=\"matrix(1,0,0,-1,0,2.0)\"><path fill-rule=\"evenodd\" fill=\"#66cc99\" stroke=\"#555555\" stroke-width=\"0.0432\" opacity=\"0.6\" d=\"M 1.4713967368259986,0.1180787356516455 L 1.382683432365091,0.0761204674887137 L 1.2902846772544636,0.04305966426779151 L 1.1950903220161297,0.01921471959676979 L 1.098017140329562,0.004815273327803293 L 1.0000000000000016,0.0 L 0.9019828596704411,0.00481527332780296 L 0.8049096779838736,0.019214719596769236 L 0.7097153227455395,0.04305966426779051 L 0.6173165676349122,0.07612046748871248 L 0.5286032631740043,0.11807873565164395 L 0.4444297669803995,0.16853038769745365 L 0.3656067158363564,0.22698954663726145 L 0.2928932188134541,0.2928932188134509 L 0.22698954663726467,0.3656067158363524 L 0.1685303876974562,0.4444297669803957 L 0.11807873565164628,0.5286032631739999 L 0.07612046748871426,0.6173165676349077 L 0.043059664267792064,0.7097153227455346 L 0.019214719596770125,0.8049096779838688 L 0.004815273327803404,0.9019828596704361 L 0.0,0.9999999999999968 L 0.004815273327802849,1.0980171403295576 L 0.019214719596768903,1.1950903220161249 L 0.043059664267790176,1.2902846772544592 L 0.07612046748871182,1.3826834323650863 L 0.11807873565164329,1.4713967368259944 L 0.16853038769745254,1.555570233019599 L 0.22698954663726056,1.6343932841636426 L 0.29289321881344954,1.7071067811865446 L 0.3656067158363514,1.7730104533627344 L 0.44442976698039416,1.8314696123025427 L 0.5286032631739982,1.8819212643483527 L 0.6173165676349064,1.9238795325112852 L 0.7097153227455333,1.9569403357322077 L 0.8049096779838669,1.9807852804032295 L 0.9019828596704342,1.9951847266721963 L 0.9999999999999953,2.0 L 1.0980171403295556,1.9951847266721974 L 1.195090322016123,1.9807852804032313 L 1.2902846772544578,1.9569403357322104 L 1.3826834323650852,1.9238795325112887 L 1.4713967368259928,1.8819212643483576 L 1.5,1.8647771281738243 L 1.4444297669803943,1.8314696123025427 L 1.3656067158363514,1.7730104533627344 L 1.2928932188134494,1.7071067811865446 L 1.2269895466372605,1.6343932841636426 L 1.1685303876974524,1.555570233019599 L 1.1180787356516433,1.4713967368259944 L 1.0761204674887117,1.3826834323650863 L 1.04305966426779,1.2902846772544592 L 1.019214719596769,1.1950903220161249 L 1.0048152733278028,1.0980171403295576 L 1.0,0.9999999999999968 L 1.0048152733278033,0.9019828596704361 L 1.01921471959677,0.8049096779838688 L 1.043059664267792,0.7097153227455346 L 1.0761204674887144,0.6173165676349077 L 1.1180787356516464,0.5286032631739999 L 1.1685303876974562,0.4444297669803957 L 1.2269895466372647,0.3656067158363524 L 1.292893218813454,0.2928932188134509 L 1.3656067158363565,0.22698954663726145 L 1.4444297669803996,0.16853038769745365 L 1.5,0.13522287182617565 L 1.4713967368259986,0.1180787356516455 z\" /></g></svg>",
      "text/plain": [
       "<shapely.geometry.polygon.Polygon at 0x2782a5bbbb0>"
      ]
     },
     "metadata": {},
     "execution_count": 46
    }
   ],
   "metadata": {}
  },
  {
   "cell_type": "code",
   "execution_count": 44,
   "source": [
    "# diferenca simetrica \r\n",
    "\r\n",
    "c1.symmetric_difference(c2)"
   ],
   "outputs": [
    {
     "output_type": "execute_result",
     "data": {
      "image/svg+xml": "<svg xmlns=\"http://www.w3.org/2000/svg\" xmlns:xlink=\"http://www.w3.org/1999/xlink\" width=\"100.0\" height=\"100.0\" viewBox=\"-0.12 -0.12 3.24 2.24\" preserveAspectRatio=\"xMinYMin meet\"><g transform=\"matrix(1,0,0,-1,0,2.0)\"><g><path fill-rule=\"evenodd\" fill=\"#66cc99\" stroke=\"#555555\" stroke-width=\"0.06480000000000001\" opacity=\"0.6\" d=\"M 1.555570233019603,0.16853038769745532 L 1.6343932841636462,0.22698954663726367 L 1.7071067811865481,0.2928932188134531 L 1.7730104533627373,0.36560671583635507 L 1.8314696123025456,0.44442976698039827 L 1.8819212643483554,0.5286032631740027 L 1.923879532511287,0.6173165676349106 L 1.956940335732209,0.709715322745538 L 1.9807852804032304,0.8049096779838719 L 1.995184726672197,0.9019828596704395 L 2.0,1.0 L 1.9951847266721963,1.0980171403295667 L 1.980785280403229,1.1950903220161349 L 1.956940335732207,1.2902846772544685 L 1.9238795325112843,1.3826834323650954 L 1.8819212643483523,1.4713967368260026 L 1.8314696123025418,1.5555702330196075 L 1.7730104533627333,1.6343932841636502 L 1.7071067811865435,1.7071067811865515 L 1.6343932841636415,1.7730104533627402 L 1.5555702330195973,1.8314696123025485 L 1.5,1.8647771281738243 L 1.528603263173998,1.8819212643483527 L 1.6173165676349064,1.9238795325112852 L 1.7097153227455333,1.9569403357322077 L 1.804909677983867,1.9807852804032295 L 1.9019828596704342,1.9951847266721963 L 1.9999999999999953,2.0 L 2.0980171403295556,1.9951847266721974 L 2.195090322016123,1.9807852804032313 L 2.2902846772544576,1.9569403357322104 L 2.382683432365085,1.9238795325112887 L 2.471396736825993,1.8819212643483576 L 2.5555702330195973,1.8314696123025485 L 2.6343932841636413,1.7730104533627402 L 2.7071067811865435,1.7071067811865515 L 2.7730104533627333,1.6343932841636502 L 2.831469612302542,1.5555702330196075 L 2.8819212643483523,1.4713967368260026 L 2.9238795325112843,1.3826834323650954 L 2.956940335732207,1.2902846772544685 L 2.980785280403229,1.1950903220161349 L 2.9951847266721963,1.0980171403295667 L 3.0,1.0 L 2.995184726672197,0.9019828596704395 L 2.9807852804032304,0.8049096779838719 L 2.956940335732209,0.709715322745538 L 2.923879532511287,0.6173165676349106 L 2.8819212643483554,0.5286032631740027 L 2.831469612302546,0.44442976698039827 L 2.7730104533627373,0.36560671583635507 L 2.707106781186548,0.2928932188134531 L 2.634393284163646,0.22698954663726367 L 2.555570233019603,0.16853038769745532 L 2.471396736825999,0.1180787356516455 L 2.382683432365091,0.0761204674887137 L 2.290284677254464,0.04305966426779151 L 2.1950903220161297,0.01921471959676979 L 2.098017140329562,0.004815273327803293 L 2.0000000000000018,0.0 L 1.9019828596704411,0.00481527332780296 L 1.8049096779838736,0.019214719596769236 L 1.7097153227455395,0.04305966426779051 L 1.6173165676349122,0.07612046748871248 L 1.5286032631740043,0.11807873565164395 L 1.5,0.13522287182617565 L 1.555570233019603,0.16853038769745532 z\" /><path fill-rule=\"evenodd\" fill=\"#66cc99\" stroke=\"#555555\" stroke-width=\"0.06480000000000001\" opacity=\"0.6\" d=\"M 1.4713967368259986,0.1180787356516455 L 1.382683432365091,0.0761204674887137 L 1.2902846772544636,0.04305966426779151 L 1.1950903220161297,0.01921471959676979 L 1.098017140329562,0.004815273327803293 L 1.0000000000000016,0.0 L 0.9019828596704411,0.00481527332780296 L 0.8049096779838736,0.019214719596769236 L 0.7097153227455395,0.04305966426779051 L 0.6173165676349122,0.07612046748871248 L 0.5286032631740043,0.11807873565164395 L 0.4444297669803995,0.16853038769745365 L 0.3656067158363564,0.22698954663726145 L 0.2928932188134541,0.2928932188134509 L 0.22698954663726467,0.3656067158363524 L 0.1685303876974562,0.4444297669803957 L 0.11807873565164628,0.5286032631739999 L 0.07612046748871426,0.6173165676349077 L 0.043059664267792064,0.7097153227455346 L 0.019214719596770125,0.8049096779838688 L 0.004815273327803404,0.9019828596704361 L 0.0,0.9999999999999968 L 0.004815273327802849,1.0980171403295576 L 0.019214719596768903,1.1950903220161249 L 0.043059664267790176,1.2902846772544592 L 0.07612046748871182,1.3826834323650863 L 0.11807873565164329,1.4713967368259944 L 0.16853038769745254,1.555570233019599 L 0.22698954663726056,1.6343932841636426 L 0.29289321881344954,1.7071067811865446 L 0.3656067158363514,1.7730104533627344 L 0.44442976698039416,1.8314696123025427 L 0.5286032631739982,1.8819212643483527 L 0.6173165676349064,1.9238795325112852 L 0.7097153227455333,1.9569403357322077 L 0.8049096779838669,1.9807852804032295 L 0.9019828596704342,1.9951847266721963 L 0.9999999999999953,2.0 L 1.0980171403295556,1.9951847266721974 L 1.195090322016123,1.9807852804032313 L 1.2902846772544578,1.9569403357322104 L 1.3826834323650852,1.9238795325112887 L 1.4713967368259928,1.8819212643483576 L 1.5,1.8647771281738243 L 1.4444297669803943,1.8314696123025427 L 1.3656067158363514,1.7730104533627344 L 1.2928932188134494,1.7071067811865446 L 1.2269895466372605,1.6343932841636426 L 1.1685303876974524,1.555570233019599 L 1.1180787356516433,1.4713967368259944 L 1.0761204674887117,1.3826834323650863 L 1.04305966426779,1.2902846772544592 L 1.019214719596769,1.1950903220161249 L 1.0048152733278028,1.0980171403295576 L 1.0,0.9999999999999968 L 1.0048152733278033,0.9019828596704361 L 1.01921471959677,0.8049096779838688 L 1.043059664267792,0.7097153227455346 L 1.0761204674887144,0.6173165676349077 L 1.1180787356516464,0.5286032631739999 L 1.1685303876974562,0.4444297669803957 L 1.2269895466372647,0.3656067158363524 L 1.292893218813454,0.2928932188134509 L 1.3656067158363565,0.22698954663726145 L 1.4444297669803996,0.16853038769745365 L 1.5,0.13522287182617565 L 1.4713967368259986,0.1180787356516455 z\" /></g></g></svg>",
      "text/plain": [
       "<shapely.geometry.multipolygon.MultiPolygon at 0x27829ece370>"
      ]
     },
     "metadata": {},
     "execution_count": 44
    }
   ],
   "metadata": {}
  },
  {
   "cell_type": "code",
   "execution_count": null,
   "source": [],
   "outputs": [],
   "metadata": {}
  }
 ],
 "metadata": {
  "orig_nbformat": 4,
  "language_info": {
   "name": "python",
   "version": "3.9.7",
   "mimetype": "text/x-python",
   "codemirror_mode": {
    "name": "ipython",
    "version": 3
   },
   "pygments_lexer": "ipython3",
   "nbconvert_exporter": "python",
   "file_extension": ".py"
  },
  "kernelspec": {
   "name": "python3",
   "display_name": "Python 3.9.7 64-bit ('geopandas_alura': conda)"
  },
  "interpreter": {
   "hash": "f45ad935e6275015147e1091e3895712926a16a94b58e16e523d21bae1777c1b"
  }
 },
 "nbformat": 4,
 "nbformat_minor": 2
}